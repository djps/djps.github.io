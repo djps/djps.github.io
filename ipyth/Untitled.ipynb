{
 "cells": [
  {
   "cell_type": "markdown",
   "id": "137380c7-945f-4473-b3c9-534ba48c7109",
   "metadata": {},
   "source": [
    "Import libraries"
   ]
  },
  {
   "cell_type": "code",
   "execution_count": 1,
   "id": "a10f9da9-9e1e-4148-8b9c-09321a11ed8f",
   "metadata": {},
   "outputs": [],
   "source": [
    "import numpy as np\n",
    "from scipy.optimize import least_squares"
   ]
  },
  {
   "cell_type": "markdown",
   "id": "cb026d23-301c-4873-9b37-92067b825cfc",
   "metadata": {},
   "source": [
    "Get the data points: $(u_i, p_i)$"
   ]
  },
  {
   "cell_type": "code",
   "execution_count": 2,
   "id": "2467087d-d6be-4a30-b2f2-ba660e0741d1",
   "metadata": {},
   "outputs": [],
   "source": [
    "u_i = np.array([0, np.pi /4.0, np.pi / 2.0])\n",
    "p_i = np.array([5.0, 4.0, 6.0])"
   ]
  },
  {
   "cell_type": "markdown",
   "id": "5e766341-9545-4158-b226-745fd186a8c1",
   "metadata": {},
   "source": [
    "Define a function which fits the data. Let\n",
    "$$\n",
    "p(u) = a \\cos ( u ) + b u\n",
    "$$"
   ]
  },
  {
   "cell_type": "code",
   "execution_count": 3,
   "id": "73abf33c-5bb0-4221-a158-b18b883aa9b0",
   "metadata": {},
   "outputs": [],
   "source": [
    "def p(beta, u):\n",
    "    return beta[0] * np.cos(u) + beta[1] * u"
   ]
  },
  {
   "cell_type": "markdown",
   "id": "5a3567bf-cbf0-4c62-808f-29e81dfd1461",
   "metadata": {},
   "source": [
    "Compute the function to minimize, $\\beta = (a,b)^T$"
   ]
  },
  {
   "cell_type": "code",
   "execution_count": 4,
   "id": "6366c109-05fe-467c-bf94-5b4f8b99db80",
   "metadata": {},
   "outputs": [],
   "source": [
    "def fun(beta):\n",
    "    return p(beta, u_i) - p_i"
   ]
  },
  {
   "cell_type": "markdown",
   "id": "e9d0dd75-226f-4206-99b9-8efbd16b17c6",
   "metadata": {},
   "source": [
    "Specify an initial guess"
   ]
  },
  {
   "cell_type": "code",
   "execution_count": 6,
   "id": "10245868-2f30-4f1f-86e8-30297f494310",
   "metadata": {},
   "outputs": [],
   "source": [
    "beta0 = np.array([1.0, 1.0])"
   ]
  },
  {
   "cell_type": "markdown",
   "id": "df8498a3-541c-4c22-8996-9ae098b2b331",
   "metadata": {},
   "source": [
    "Compute the least squares solution. Note that the output of the cost function is half the sum of the square differences, see [here](https://docs.scipy.org/doc/scipy/reference/generated/scipy.optimize.least_squares.html#scipy.optimize.least_squares), so"
   ]
  },
  {
   "cell_type": "code",
   "execution_count": 7,
   "id": "05d2a0a1-2a53-452f-ac54-af19da13f608",
   "metadata": {},
   "outputs": [
    {
     "name": "stdout",
     "output_type": "stream",
     "text": [
      "beta: [3.97548959 3.35852692]\n",
      "cost: 3.673675536076871\n",
      "fun: [-1.02451041  1.44887652 -0.72443826]\n",
      "message: Both `ftol` and `xtol` termination conditions are satisfied.\n",
      "success: True\n"
     ]
    }
   ],
   "source": [
    "res = least_squares(fun, beta0)\n",
    "print(\"beta:\", res.x)\n",
    "print(\"cost:\", 2.0 * res.cost)\n",
    "print(\"fun:\", res.fun)\n",
    "print(\"message:\", res.message)\n",
    "print(\"success:\", res.success)"
   ]
  },
  {
   "cell_type": "markdown",
   "id": "9ac3f236-51e4-4091-8d62-506e70d1868f",
   "metadata": {},
   "source": [
    "The analytical results from solving the linear system"
   ]
  },
  {
   "cell_type": "code",
   "execution_count": 8,
   "id": "5261b6b0-9271-456e-80fa-74141148e8f4",
   "metadata": {},
   "outputs": [],
   "source": [
    "a = (25.0 + 2.0 * np.sqrt(2.0)) / 7.0\n",
    "b = (88.0 - 10.0 * np.sqrt(2.0)) / (7.0*np.pi)"
   ]
  },
  {
   "cell_type": "markdown",
   "id": "a49a81d1-e018-4641-a437-8e821e735412",
   "metadata": {},
   "source": [
    "The error, $E$, which is minimized is:"
   ]
  },
  {
   "cell_type": "code",
   "execution_count": 9,
   "id": "5f255a58-bbb3-4e7c-acaa-1040b5e67e46",
   "metadata": {},
   "outputs": [
    {
     "name": "stdout",
     "output_type": "stream",
     "text": [
      "3.673675536076871\n"
     ]
    }
   ],
   "source": [
    "E = (p_i[0] - p([a,b], u_i)[0])**2 + (p_i[1] - p([a,b], u_i)[1])**2 + (p_i[2] - p([a,b], u_i)[2])**2\n",
    "print(E)"
   ]
  },
  {
   "cell_type": "code",
   "execution_count": null,
   "id": "b231f917-2ffd-486f-8a59-064b0c3d5544",
   "metadata": {},
   "outputs": [],
   "source": []
  }
 ],
 "metadata": {
  "kernelspec": {
   "display_name": "Python 3 (ipykernel)",
   "language": "python",
   "name": "python3"
  },
  "language_info": {
   "codemirror_mode": {
    "name": "ipython",
    "version": 3
   },
   "file_extension": ".py",
   "mimetype": "text/x-python",
   "name": "python",
   "nbconvert_exporter": "python",
   "pygments_lexer": "ipython3",
   "version": "3.13.5"
  }
 },
 "nbformat": 4,
 "nbformat_minor": 5
}
