{
 "cells": [
  {
   "cell_type": "code",
   "execution_count": null,
   "id": "31584861-8c86-4c76-a835-72b13f360cb6",
   "metadata": {},
   "outputs": [],
   "source": [
    "import matplotlib.pyplot as plt\n",
    "import numpy as np\n",
    "import scipy as sp"
   ]
  },
  {
   "cell_type": "markdown",
   "id": "fbbfa5de-7948-4ab5-882d-3a5c27471aed",
   "metadata": {},
   "source": [
    "set grid for visualisation"
   ]
  },
  {
   "cell_type": "code",
   "execution_count": null,
   "id": "40115388-9cea-4277-ada3-f3991d9ec2bd",
   "metadata": {},
   "outputs": [],
   "source": [
    "s = np.linspace(-1, 1, 10)\n",
    "t = np.linspace(-1, 1, 10)\n",
    "S, T = np.meshgrid(s, t)"
   ]
  },
  {
   "cell_type": "markdown",
   "id": "075794c7-63f6-4627-8e1d-8c1b7f93d26e",
   "metadata": {},
   "source": [
    "define vectors"
   ]
  },
  {
   "cell_type": "code",
   "execution_count": null,
   "id": "7a534af7-afc2-49c5-9ecd-76f2b4d177f1",
   "metadata": {},
   "outputs": [],
   "source": [
    "x1 = np.array([3, 6, 2])\n",
    "x2 = np.array([1, 2, 4])\n",
    "x3 = np.array([2, -2, 1])"
   ]
  },
  {
   "cell_type": "markdown",
   "id": "37a1939f-fcc4-4d37-998b-6b200ba3f3a4",
   "metadata": {},
   "source": [
    "reshape data for plotting"
   ]
  },
  {
   "cell_type": "code",
   "execution_count": null,
   "id": "b696b789-120b-42cf-8644-decd74ff2066",
   "metadata": {},
   "outputs": [],
   "source": [
    "x1 = x1.reshape((-1, 1))\n",
    "x2 = x2.reshape((-1, 1))\n",
    "x3 = x3.reshape((-1, 1))\n",
    "\n",
    "vec = np.array([\n",
    "    np.hstack((np.zeros((1,3)), x1.T)),\n",
    "    np.hstack((np.zeros((1,3)), x2.T)),\n",
    "    np.hstack((np.zeros((1,3)), x3.T))\n",
    "    ])\n",
    "\n",
    "X = vec[0, :, 3] * S + vec[1, :, 3] * T\n",
    "Y = vec[0, :, 4] * S + vec[1, :, 4] * T\n",
    "Z = vec[0, :, 5] * S + vec[1, :, 5] * T"
   ]
  },
  {
   "cell_type": "markdown",
   "id": "7bc4aaa2-28b7-4721-a353-9bddfe6b90f6",
   "metadata": {},
   "source": [
    "set up plotting scheme"
   ]
  },
  {
   "cell_type": "code",
   "execution_count": null,
   "id": "a3a8f5be-4778-47d0-88e0-37ec42ae5ba0",
   "metadata": {},
   "outputs": [],
   "source": [
    "fig = plt.figure(figsize = (7, 7))\n",
    "ax = fig.add_subplot(projection='3d')\n",
    "ax.plot_wireframe(X, Y, Z, linewidth=1.5, alpha=0.3)\n",
    "\n",
    "colors = ['tab:red', 'tab:blue', 'tab:green']\n",
    "s = ['$x_1$', '$x_2$', '$x_3$']\n",
    "for i in range(vec.shape[0]):\n",
    "    X, Y, Z, U, V, W = zip(*vec[i, :, :])\n",
    "    ax.quiver(X, Y, Z, U, V, W, length=1, normalize=False,\n",
    "              color=colors[i], alpha=0.6, arrow_length_ratio=0.08,\n",
    "              pivot='tail', linestyles='solid', linewidths=3)\n",
    "    ax.text(vec[i, :, 3][0], vec[i, :, 4][0], vec[i, :, 5][0], s=s[i], size=15)\n",
    "\n",
    "ax.set_xlabel('$x$')\n",
    "ax.set_ylabel('$y$')\n",
    "ax.set_zlabel('$z$')"
   ]
  },
  {
   "cell_type": "markdown",
   "id": "390aec7a-7817-446b-86ed-0f0a53167d34",
   "metadata": {},
   "source": [
    "Gram-Schmidt process"
   ]
  },
  {
   "cell_type": "code",
   "execution_count": null,
   "id": "3359451e-54f0-423b-b8f4-5fb4e4caaefe",
   "metadata": {},
   "outputs": [],
   "source": [
    "x1 = np.array([3, 6, 2])\n",
    "x2 = np.array([1, 2, 4])\n",
    "x3 = np.array([2, -2, 1])\n",
    "\n",
    "v1 = x1\n",
    "\n",
    "v2 = x2 - (x2@x1) / (x1@x1) * x1\n",
    "\n",
    "projW_x3 = (x3@v1) / (v1@v1) * v1 + (x3@v2) / (v2@v2) * v2\n",
    "v3 = x3 - projW_x3"
   ]
  },
  {
   "cell_type": "markdown",
   "id": "13065694-f262-4c3b-8eed-e060e86430d6",
   "metadata": {},
   "source": [
    "reshape data for plotting"
   ]
  },
  {
   "cell_type": "code",
   "execution_count": null,
   "id": "592f7797-353c-42d0-b494-8c37eeaeda67",
   "metadata": {},
   "outputs": [],
   "source": [
    "v1 = v1.reshape((-1, 1))\n",
    "v2 = v2.reshape((-1, 1))\n",
    "v3 = v3.reshape((-1, 1))\n",
    "\n",
    "vec1 = np.array([\n",
    "    np.hstack((np.zeros((1,3)), v1.T)),\n",
    "    np.hstack((np.zeros((1,3)), v2.T)),\n",
    "    np.hstack((np.zeros((1,3)), v3.T))\n",
    "    ])\n",
    "\n",
    "X1 = vec1[0, :, 3] * S + vec1[1, :, 3] * T\n",
    "Y1 = vec1[0, :, 4] * S + vec1[1, :, 4] * T\n",
    "Z1 = vec1[0, :, 5] * S + vec1[1, :, 5] * T\n",
    "\n",
    "fig = plt.figure(figsize = (7, 7))\n",
    "ax = fig.add_subplot(projection='3d')\n",
    "ax.plot_wireframe(X1, Y1, Z1, linewidth=1.5, alpha=0.3)\n",
    "\n",
    "colors = ['tab:red', 'tab:blue', 'tab:green']\n",
    "s = ['$x_1$', '$x_2$', '$x_3$']\n",
    "s1 = ['', '$v_2$', '$v_3$']\n",
    "for i in range(vec1.shape[0]):\n",
    "    X, Y, Z, U, V, W = zip(*vec1[i, :, :])\n",
    "    ax.quiver(X, Y, Z, U, V, W, length=1, normalize=False,\n",
    "          color=colors[i], alpha=1, arrow_length_ratio=0.08,\n",
    "          pivot='tail', linestyles='dashed', linewidths=3)\n",
    "    ax.text(vec1[i, :, 3][0], vec1[i, :, 4][0], vec1[i, :, 5][0], s=s1[i], size=15)\n",
    "    X, Y, Z, U, V, W = zip(*vec[i, :, :])\n",
    "    ax.quiver(X, Y, Z, U, V, W, length=1, normalize=False,\n",
    "          color=colors[i], alpha=0.6, arrow_length_ratio=0.08,\n",
    "          pivot='tail', linestyles='solid', linewidths=2)\n",
    "    ax.text(vec[i, :, 3][0], vec[i, :, 4][0], vec[i, :, 5][0], s=s[i], size=15, color='tab:gray')\n",
    "\n",
    "plt.show()"
   ]
  },
  {
   "cell_type": "markdown",
   "id": "ee4ea049-4f6a-4e7f-b0e2-a46fb2afe3ce",
   "metadata": {},
   "source": [
    "Normalize"
   ]
  },
  {
   "cell_type": "code",
   "execution_count": null,
   "id": "dc6a76b1-90fe-4dfd-a922-f6321f63a919",
   "metadata": {},
   "outputs": [],
   "source": [
    "u1 = v1 / sp.linalg.norm(v1)\n",
    "u2 = v2 / sp.linalg.norm(v2)\n",
    "u3 = v3 / sp.linalg.norm(v3)\n",
    "\n",
    "U1 = np.vstack((u1, u2, u3)).T"
   ]
  },
  {
   "cell_type": "code",
   "execution_count": null,
   "id": "91dd1eaf-dbbd-4050-b0b9-f141882937ee",
   "metadata": {},
   "outputs": [],
   "source": []
  }
 ],
 "metadata": {
  "kernelspec": {
   "display_name": "Python 3 (ipykernel)",
   "language": "python",
   "name": "python3"
  },
  "language_info": {
   "codemirror_mode": {
    "name": "ipython",
    "version": 3
   },
   "file_extension": ".py",
   "mimetype": "text/x-python",
   "name": "python",
   "nbconvert_exporter": "python",
   "pygments_lexer": "ipython3",
   "version": "3.10.11"
  }
 },
 "nbformat": 4,
 "nbformat_minor": 5
}
