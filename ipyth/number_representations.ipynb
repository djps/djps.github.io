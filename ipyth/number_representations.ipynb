{
 "cells": [
  {
   "cell_type": "markdown",
   "id": "0e31f1c7-3389-44e1-9993-622472924c4f",
   "metadata": {},
   "source": [
    "## Number Representations & Accuracy\r\n",
    "\r\n",
    "The order of operations and the respective number representation can lead to rounding errors and propagation of errors.\r\n",
    "\r\n",
    "The order of operations matters on computers as addition/subtraction is not associative.\r\n",
    "\r\n",
    "Here, addition of small number $b$ to a large number $a$ can cause a problem.\r\n",
    "\r\n",
    "In a python environment, import the libraries we need:"
   ]
  },
  {
   "cell_type": "code",
   "execution_count": 1,
   "id": "5dbdd26c-e345-40ed-94fb-90aafcc3d171",
   "metadata": {},
   "outputs": [],
   "source": [
    "import numpy as np\n",
    "import math"
   ]
  },
  {
   "cell_type": "markdown",
   "id": "d9ad50b7-6f16-4adc-a5a1-7a58c8749047",
   "metadata": {},
   "source": [
    "Here $c$ and $d$ should be identical:"
   ]
  },
  {
   "cell_type": "code",
   "execution_count": 2,
   "id": "261c1287-1ae9-44fc-b23f-cb5303d44b62",
   "metadata": {},
   "outputs": [
    {
     "name": "stdout",
     "output_type": "stream",
     "text": [
      "Solution 1 is  0.0  and Solution 2 is  0.009999999999999997\n"
     ]
    }
   ],
   "source": [
    "a = 10**7\n",
    "b = 10**(-20)\n",
    "c = (a + b - a)**(1/10.0)\n",
    "d = (a - a + b)**(1/10.0)\n",
    "print('Solution 1 is ', c,' and Solution 2 is ', d)"
   ]
  },
  {
   "cell_type": "markdown",
   "id": "0fb08cc2-a48f-4aab-8d3a-830c322dbcdc",
   "metadata": {},
   "source": [
    "Subtraction of values of similar size also leads to loss of precision (with double precision often quite difficult, as there may actually be extra digits available for certain computations). But it still becomes obvious for ${x = 1/150000000}$ in the example.\r\n",
    "\r\n",
    "Alternative application: use an approximation of sine by the Taylor expansion for angles close to zero to yield a better answer, because first terms of Taylor expansion are accurate enough and we work with numbers of not too similar and not too different sizes in the expansion."
   ]
  },
  {
   "cell_type": "code",
   "execution_count": 3,
   "id": "989d3a14-a856-4330-89b5-d952f72a9dd9",
   "metadata": {},
   "outputs": [
    {
     "name": "stdout",
     "output_type": "stream",
     "text": [
      "0.000000006666666666666666806150405534189817835510893928585574030876159667968750000000000000\n",
      "0.000000006666666666666666806150405534189817835510893928585574030876159667968750000000000000\n",
      "0.000000000000000000000000000000000000000000000000000000000000000000000000000000000000000000\n"
     ]
    }
   ],
   "source": [
    "# Try also removing some zeros below\n",
    "x = 1.0 / 150000000.0\n",
    "y = math.sin(x)\n",
    "z = x - y\n",
    "print('%.90f' % x)\n",
    "print('%.90f' % y)\n",
    "print('%.90f' % z)"
   ]
  },
  {
   "cell_type": "code",
   "execution_count": 4,
   "id": "70197bfc-d371-43b7-a1c7-da166fa643b0",
   "metadata": {},
   "outputs": [
    {
     "name": "stdout",
     "output_type": "stream",
     "text": [
      "0.000000000000000000000000049382716049382722698032335288340181891714993182513789445547602556\n"
     ]
    }
   ],
   "source": [
    "z = x - x + x**3 / np.math.factorial(3) - x**5 / np.math.factorial(5) + x**7 / np.math.factorial(7)\n",
    "print('%.90f' % z)"
   ]
  }
 ],
 "metadata": {
  "kernelspec": {
   "display_name": "Python 3 (ipykernel)",
   "language": "python",
   "name": "python3"
  },
  "language_info": {
   "codemirror_mode": {
    "name": "ipython",
    "version": 3
   },
   "file_extension": ".py",
   "mimetype": "text/x-python",
   "name": "python",
   "nbconvert_exporter": "python",
   "pygments_lexer": "ipython3",
   "version": "3.10.11"
  }
 },
 "nbformat": 4,
 "nbformat_minor": 5
}
